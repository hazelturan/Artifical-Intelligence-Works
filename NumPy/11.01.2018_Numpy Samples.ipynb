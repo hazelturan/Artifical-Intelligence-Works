{
 "cells": [
  {
   "cell_type": "code",
   "execution_count": 3,
   "metadata": {},
   "outputs": [
    {
     "data": {
      "text/plain": [
       "array([ 25.3,  24.8,  26.9,  23.9,  52.5,  95. ,  12. ,  55.9])"
      ]
     },
     "execution_count": 3,
     "metadata": {},
     "output_type": "execute_result"
    }
   ],
   "source": [
    "import numpy as np\n",
    "\n",
    "celciusValue = [25.3,24.8,26.9,23.9,52.5,95.,12.0,55.9]\n",
    "\n",
    "C = np.array(celciusValue)\n",
    "C"
   ]
  },
  {
   "cell_type": "code",
   "execution_count": 5,
   "metadata": {},
   "outputs": [
    {
     "data": {
      "text/plain": [
       "array([  77.54,   76.64,   80.42,   75.02,  126.5 ,  203.  ,   53.6 ,\n",
       "        132.62])"
      ]
     },
     "execution_count": 5,
     "metadata": {},
     "output_type": "execute_result"
    }
   ],
   "source": [
    "F = (C*9/5)+32 #Fahrenheit transformation\n",
    "F"
   ]
  },
  {
   "cell_type": "code",
   "execution_count": null,
   "metadata": {
    "collapsed": true
   },
   "outputs": [],
   "source": [
    "# NumPy F = (C*9/5)+32 == Python F = [(x*9/5)+32 for x in celciusValue]"
   ]
  },
  {
   "cell_type": "code",
   "execution_count": 9,
   "metadata": {},
   "outputs": [
    {
     "data": {
      "text/plain": [
       "array([ 7.22888694,  4.35317753,  6.91496044,  7.09495542,  4.29776337,\n",
       "        1.69001999,  0.96799506,  8.21214396,  2.89418808,  6.79597947])"
      ]
     },
     "execution_count": 9,
     "metadata": {},
     "output_type": "execute_result"
    }
   ],
   "source": [
    "C = np.array(10*np.random.random(10)) #random 10 numbers *10\n",
    "C"
   ]
  },
  {
   "cell_type": "code",
   "execution_count": 10,
   "metadata": {},
   "outputs": [
    {
     "data": {
      "text/plain": [
       "array([ 45.01199648,  39.83571956,  44.44692878,  44.77091975,\n",
       "        39.73597406,  35.04203598,  33.74239112,  46.78185914,\n",
       "        37.20953855,  44.23276305])"
      ]
     },
     "execution_count": 10,
     "metadata": {},
     "output_type": "execute_result"
    }
   ],
   "source": [
    "F = (C*9/5)+32 #Fahrenheit transformation\n",
    "F"
   ]
  },
  {
   "cell_type": "code",
   "execution_count": 20,
   "metadata": {},
   "outputs": [
    {
     "name": "stdout",
     "output_type": "stream",
     "text": [
      "[ 6.36984129  5.37812047  2.20712972  7.3970179   2.85902055]\n"
     ]
    }
   ],
   "source": [
    "x = 10*(np.random.random(5))\n",
    "print(x)"
   ]
  },
  {
   "cell_type": "code",
   "execution_count": 21,
   "metadata": {},
   "outputs": [
    {
     "name": "stdout",
     "output_type": "stream",
     "text": [
      "[ 3.25361812  7.43561527  4.9683292   1.25497604  2.2657542 ]\n"
     ]
    }
   ],
   "source": [
    "y = 10*(np.random.random(5))\n",
    "print(y)"
   ]
  },
  {
   "cell_type": "code",
   "execution_count": 22,
   "metadata": {},
   "outputs": [
    {
     "name": "stdout",
     "output_type": "stream",
     "text": [
      "[ 7.15268543  9.17673985  5.43651696  7.50272208  3.6479639 ]\n"
     ]
    }
   ],
   "source": [
    "distance = (np.sqrt(np.square(x)+np.square(y)))\n",
    "print(distance)"
   ]
  },
  {
   "cell_type": "code",
   "execution_count": 23,
   "metadata": {},
   "outputs": [
    {
     "name": "stdout",
     "output_type": "stream",
     "text": [
      "32.9166282212\n"
     ]
    }
   ],
   "source": [
    "total = np.sum(distance)\n",
    "print(total)"
   ]
  }
 ],
 "metadata": {
  "kernelspec": {
   "display_name": "Python 3",
   "language": "python",
   "name": "python3"
  },
  "language_info": {
   "codemirror_mode": {
    "name": "ipython",
    "version": 3
   },
   "file_extension": ".py",
   "mimetype": "text/x-python",
   "name": "python",
   "nbconvert_exporter": "python",
   "pygments_lexer": "ipython3",
   "version": "3.6.3"
  }
 },
 "nbformat": 4,
 "nbformat_minor": 2
}

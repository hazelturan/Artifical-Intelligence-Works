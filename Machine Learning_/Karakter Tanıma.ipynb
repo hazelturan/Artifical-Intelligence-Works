{
 "cells": [
  {
   "cell_type": "markdown",
   "metadata": {},
   "source": [
    "# Resim İşleme\n",
    "\n",
    "Resim işleme genellikle 2 boyutlu ya da 3 boyutlu (3. boyut renkler olacak şekilde, RGB) sinyallerin matematiksel olarak işlenmesidir.\n",
    "\n",
    "## Fotoğraf\n",
    "Bir pixel Red, Green, Blue değerlerinden oluşur. Renkler 0 ile 255 arasında bir tamsayı ya da 0 ile 1 arasındaki bir sayıdan oluşur (RGB, $256 \\times 256 \\times 256$ = 16777216 renk). $w*h$ boyutundaki bir fotoğraf bu boyutlardaki 3 matristen oluşur. \n",
    "\n",
    "Scikit-image paketi kullanılır.\n",
    "Resimleri okumak ve yazdırmak için **imread** ve **imshow** fonksiyonları kullanılır."
   ]
  },
  {
   "cell_type": "markdown",
   "metadata": {},
   "source": [
    "# Karakter Tanıma\n",
    "\n",
    "Fonksiyon aşağıdaki parametreleri alarak okuma işlemini gerçekleştirir: \n",
    "* Ana klasörün yolu\n",
    "* Alt klasörün adı (train, test)\n",
    "* Etiketler\n",
    "* Resim boyutu"
   ]
  },
  {
   "cell_type": "code",
   "execution_count": 1,
   "metadata": {},
   "outputs": [],
   "source": [
    "import pandas as pd \n",
    "from skimage.io import imread, imshow\n",
    "import numpy as np\n",
    "import matplotlib.pyplot as plt\n",
    "import matplotlib.cm as cm\n",
    "\n",
    "\"\"\"\n",
    "Input: Folder names (For train, test data sets)\n",
    "Output: Dataframes containing pictures as vectors\n",
    "\"\"\"\n",
    "\"\"\"\n",
    "Veriyi okumak için bir fonksiyon\n",
    "Path, klasör, resim büyüklüğü ve etiketleri alıp resimlerden oluşan bir matris döndürüyor.\n",
    "\"\"\"\n",
    "def read_data(typeData, labelsInfo, imageSize, path):\n",
    "    #Intialize x  matrix\n",
    "    x = np.zeros((labelsInfo.shape[0], imageSize))\n",
    "    for (index, idImage) in enumerate(labelsInfo[\"ID\"]):\n",
    "    #Read image file\n",
    "        nameFile = \"{0}/{1}/{2}.Bmp\".format(path, typeData, idImage)\n",
    "        img = imread(nameFile, as_grey=True)\n",
    "        img = np.reshape(img, (1, imageSize))\n",
    "        if img.max() > 1:\n",
    "            img = img/255.0\n",
    "        #img = normalize(img)\n",
    "        #img = np.reshape(img, (20,20))\n",
    "        #img1 = np.gradient(img)\n",
    "        #img1 = np.abs(img1[0]) + np.abs(img1[1])\n",
    "        #[index, :] = normalize((np.reshape(img, (1, imageSize)) >=0.5))\n",
    "        x[index, :] = np.reshape(img, (1, imageSize))\n",
    "        \n",
    "    return x\n"
   ]
  },
  {
   "cell_type": "code",
   "execution_count": null,
   "metadata": {
    "collapsed": true
   },
   "outputs": [],
   "source": []
  },
  {
   "cell_type": "code",
   "execution_count": 2,
   "metadata": {},
   "outputs": [
    {
     "name": "stdout",
     "output_type": "stream",
     "text": [
      "   ID Class\n",
      "0   1     n\n",
      "1   2     8\n",
      "2   3     T\n",
      "3   4     I\n",
      "4   5     R\n"
     ]
    }
   ],
   "source": [
    "imageSize = 400 # 20 x 20 pixels\n",
    "\n",
    "# Klasörlerin olduğu yol\n",
    "path = 'C:\\\\Users\\hazel.turan\\\\Desktop\\\\Jupyter File\\\\Machine Learning\\\\Supervised\\\\Güdümlü Öğrenme'\n",
    "\n",
    "# Dosya adları ve etiketler için\n",
    "labelsInfoTrain = pd.read_csv(\"trainLabels.csv\")\n",
    "\n",
    "# Train veri setini okut\n",
    "xTrain = read_data(\"trainResized\", labelsInfoTrain, imageSize, path)\n",
    "\n",
    "# Kaggle'a sonuçları yollamak için bu dosyanın formatı kullanılabilir\n",
    "labelsInfoTest = pd.read_csv(\"sampleSubmission.csv\")\n",
    "\n",
    "# Test veri setini okut\n",
    "xTest = read_data(\"testResized\", labelsInfoTest, imageSize, path)\n",
    "\n",
    "print(labelsInfoTrain.head())"
   ]
  },
  {
   "cell_type": "code",
   "execution_count": 3,
   "metadata": {},
   "outputs": [
    {
     "data": {
      "image/png": "[encoded data removed]",
      "text/plain": [
       "<matplotlib.figure.Figure at 0x167b460b38>"
      ]
     },
     "metadata": {},
     "output_type": "display_data"
    },
    {
     "data": {
      "image/png": "[encoded data removed]",
      "text/plain": [
       "<matplotlib.figure.Figure at 0x16039aacc0>"
      ]
     },
     "metadata": {},
     "output_type": "display_data"
    },
    {
     "data": {
      "image/png": "[encoded data removed]",
      "text/plain": [
       "<matplotlib.figure.Figure at 0x1603aafcc0>"
      ]
     },
     "metadata": {},
     "output_type": "display_data"
    }
   ],
   "source": [
    "img = imread(..............)\n",
    "imshow(img)\n",
    "plt.title('Original')\n",
    "plt.show()\n",
    "\n",
    "\n",
    "img = imread(................)\n",
    "imshow(img)\n",
    "plt.title('Grayscale')\n",
    "plt.show()\n",
    "\n",
    "................\n",
    "imshow(img)\n",
    "plt.title('Grayscale Inverted')\n",
    "plt.show()"
   ]
  },
  {
   "cell_type": "markdown",
   "metadata": {},
   "source": [
    "Etiketleri karakterden ASCII değerine dönüştürmek için **map** fonksiyonunu kullanılır."
   ]
  },
  {
   "cell_type": "code",
   "execution_count": 4,
   "metadata": {},
   "outputs": [
    {
     "name": "stdout",
     "output_type": "stream",
     "text": [
      "(6283, 400)\n",
      "(6283,)\n"
     ]
    }
   ],
   "source": [
    "\"\"\"\n",
    "In order to convert a label to an integer, we use ascii codes. map(ord, ....) converts characters \n",
    "to their values from ascii conversion table, and map(chr, ....) converts an integer to corresponging\n",
    "character.\n",
    "\"\"\"\n",
    "yTrain=[]\n",
    "for i in range(len(labelsInfoTrain)):\n",
    "    yTrain.append(ord(labelsInfoTrain[\"Class\"].iloc[i]))\n",
    "\n",
    "\n",
    "print(np.shape(xTrain))\n",
    "print(np.shape(yTrain))\n"
   ]
  },
  {
   "cell_type": "markdown",
   "metadata": {},
   "source": [
    "# Tahmin\n",
    "\n",
    "* Random Forest Classifier algoritması\n",
    "* Karar ağacı sayısı 100"
   ]
  },
  {
   "cell_type": "code",
   "execution_count": 5,
   "metadata": {},
   "outputs": [
    {
     "name": "stderr",
     "output_type": "stream",
     "text": [
      "[Parallel(n_jobs=1)]: Done 100 out of 100 | elapsed:   23.6s finished\n",
      "[Parallel(n_jobs=1)]: Done 100 out of 100 | elapsed:    0.4s finished\n"
     ]
    }
   ],
   "source": [
    "from sklearn.ensemble import RandomForestClassifier\n",
    "\n",
    "# Tahmin modeli kurulumu\n",
    "rf = ...............\n",
    "\n",
    "y_pred = ...................\n",
    "\n",
    "y_pred2 = []\n",
    "for i in range(len(y_pred)):\n",
    "    y_pred2.append(chr(y_pred[i]))\n",
    "\n",
    "labelsInfoTest['Class'] = y_pred2\n",
    "\n",
    "labelsInfoTest.to_csv('Results_random_forest.csv', index=False)"
   ]
  },
  {
   "cell_type": "markdown",
   "metadata": {},
   "source": [
    "Değerlendirmeyi doğruluk üzerinden yapılır.\n",
    "\n",
    "Random Forest Classifier: 0.46"
   ]
  },
  {
   "cell_type": "code",
   "execution_count": 6,
   "metadata": {},
   "outputs": [
    {
     "data": {
      "image/png": "[encoded data removed]",
      "text/plain": [
       "<matplotlib.figure.Figure at 0x1603aa3470>"
      ]
     },
     "metadata": {},
     "output_type": "display_data"
    }
   ],
   "source": [
    "features = rf.feature_importances_\n",
    "features = np.reshape(features,(20,20))\n",
    "plt.imshow(features, interpolation='none')\n",
    "cb = plt.colorbar()\n",
    "cb.set_ticks([rf.feature_importances_.min(), rf.feature_importances_.max()]) \n",
    "cb.set_ticklabels(['not important', 'important'])  # put text labels on them\n",
    "plt.show()\n"
   ]
  },
  {
   "cell_type": "markdown",
   "metadata": {},
   "source": [
    "# İyileştirmeler (Data Augmentation)"
   ]
  },
  {
   "cell_type": "code",
   "execution_count": 7,
   "metadata": {},
   "outputs": [],
   "source": [
    "#Veri setlerini zenginleştir\n",
    "xTrain = np.append(............, axis = 0)\n",
    "yTrain = np.append(............, axis = 0)"
   ]
  },
  {
   "cell_type": "code",
   "execution_count": 8,
   "metadata": {},
   "outputs": [
    {
     "name": "stderr",
     "output_type": "stream",
     "text": [
      "[Parallel(n_jobs=1)]: Done 100 out of 100 | elapsed:  1.1min finished\n",
      "[Parallel(n_jobs=1)]: Done 100 out of 100 | elapsed:    0.5s finished\n"
     ]
    },
    {
     "data": {
      "image/png": "[encoded data removed]",
      "text/plain": [
       "<matplotlib.figure.Figure at 0x1603b1ce80>"
      ]
     },
     "metadata": {},
     "output_type": "display_data"
    }
   ],
   "source": [
    "rf = RandomForestClassifier(n_estimators = 100,verbose=1)\n",
    "rf.fit(xTrain,yTrain)\n",
    "y_pred = rf.predict(xTest)\n",
    "y_pred2 = []\n",
    "for i in range(len(y_pred)):\n",
    "    y_pred2.append(chr(y_pred[i]))\n",
    "\n",
    "labelsInfoTest['Class'] = y_pred2\n",
    "labelsInfoTest.to_csv('Results_random_forest_negative.csv', index=False)\n",
    "\n",
    "features = rf.feature_importances_\n",
    "features = np.reshape(features,(20,20))\n",
    "plt.imshow(features, interpolation='none')\n",
    "cb = plt.colorbar()\n",
    "cb.set_ticks([rf.feature_importances_.min(), rf.feature_importances_.max()])  \n",
    "cb.set_ticklabels(['not important', 'important'])  # put text labels on them\n",
    "plt.show()"
   ]
  },
  {
   "cell_type": "markdown",
   "metadata": {},
   "source": [
    "Doğruluk değeri 0.48 "
   ]
  },
  {
   "cell_type": "code",
   "execution_count": 9,
   "metadata": {
    "collapsed": true
   },
   "outputs": [],
   "source": [
    "\"\"\"\n",
    "Used in order to normalize data:\n",
    "Input: Grayscale image\n",
    "Output: Same image converted to range white and black (0-1)\n",
    "\"\"\"\n",
    "def scale(arr):\n",
    "    \"\"\"\n",
    "    Linear normalization\n",
    "    http://en.wikipedia.org/wiki/Normalization_%28image_processing%29\n",
    "    \"\"\"\n",
    "    arr = arr.astype('float')\n",
    "    minval = arr.min()\n",
    "    maxval = arr.max()\n",
    "    if minval != maxval:\n",
    "        arr -= minval\n",
    "        arr *= (255.0/(maxval-minval))\n",
    "    return arr/255\n"
   ]
  },
  {
   "cell_type": "code",
   "execution_count": 10,
   "metadata": {},
   "outputs": [
    {
     "name": "stdout",
     "output_type": "stream",
     "text": [
      "Minimum value of a pixel 0.293496862745\n",
      "Maximum value of a pixel 0.886862745098\n"
     ]
    },
    {
     "data": {
      "image/png": "[encoded data removed]",
      "text/plain": [
       "<matplotlib.figure.Figure at 0x160458f400>"
      ]
     },
     "metadata": {},
     "output_type": "display_data"
    },
    {
     "name": "stdout",
     "output_type": "stream",
     "text": [
      "Minimum value of a pixel 0.0\n",
      "Maximum value of a pixel 1.0\n"
     ]
    },
    {
     "data": {
      "image/png": "[encoded data removed]",
      "text/plain": [
       "<matplotlib.figure.Figure at 0x160452ff60>"
      ]
     },
     "metadata": {},
     "output_type": "display_data"
    }
   ],
   "source": [
    "img = imread('trainResized/3.Bmp', as_grey=True)\n",
    "print('Minimum value of a pixel ' + str(img.min()))\n",
    "print('Maximum value of a pixel ' + str(img.max()))\n",
    "\n",
    "img = scale(img)\n",
    "#To avoid numerical instabilities\n",
    "img[img >= 1] = 1\n",
    "img[img <= 0] = 0\n",
    "imshow(img)\n",
    "plt.title('Rescaled Grayscale')\n",
    "plt.show()\n",
    "print('Minimum value of a pixel ' + str(img.min()))\n",
    "print('Maximum value of a pixel ' + str(img.max()))\n",
    "\n",
    "img = 1-img\n",
    "imshow(img)\n",
    "plt.title('Inverted Rescaled Grayscale')\n",
    "plt.show()\n"
   ]
  },
  {
   "cell_type": "code",
   "execution_count": 11,
   "metadata": {},
   "outputs": [
    {
     "name": "stderr",
     "output_type": "stream",
     "text": [
      "[Parallel(n_jobs=1)]: Done 100 out of 100 | elapsed:   55.4s finished\n",
      "[Parallel(n_jobs=1)]: Done 100 out of 100 | elapsed:    0.6s finished\n"
     ]
    },
    {
     "data": {
      "image/png": "[encoded data removed]",
      "text/plain": [
       "<matplotlib.figure.Figure at 0x1603ace978>"
      ]
     },
     "metadata": {},
     "output_type": "display_data"
    }
   ],
   "source": [
    "#Veri setlerini ölçeklendir\n",
    "for i in range(len(xTrain)):\n",
    "    ...............\n",
    "\n",
    "for i in range(len(xTest)):\n",
    "    ...............\n",
    "                     \n",
    "xTrain[xTrain > 1] = 1\n",
    "xTrain[xTrain < 0] = 0\n",
    "xTest[xTest > 1] = 1\n",
    "xTest[xTest < 0] = 0\n",
    "\n",
    "rf = RandomForestClassifier(n_estimators = 100,verbose=1)\n",
    "rf.fit(xTrain,yTrain)\n",
    "y_pred = rf.predict(xTest)\n",
    "y_pred2 = []\n",
    "for i in range(len(y_pred)):\n",
    "    y_pred2.append(chr(y_pred[i]))\n",
    "\n",
    "labelsInfoTest['Class'] = y_pred2\n",
    "labelsInfoTest.to_csv('Results_random_forest_negative_rescaled.csv', index=False)\n",
    "\n",
    "\n",
    "features = rf.feature_importances_\n",
    "features = np.reshape(features,(20,20))\n",
    "plt.imshow(features, interpolation='none')\n",
    "cb = plt.colorbar()\n",
    "cb.set_ticks([rf.feature_importances_.min(), rf.feature_importances_.max()])  # force there to be only 3 ticks\n",
    "cb.set_ticklabels(['not important', 'important'])  # put text labels on them\n",
    "plt.show()"
   ]
  },
  {
   "cell_type": "code",
   "execution_count": 12,
   "metadata": {},
   "outputs": [
    {
     "data": {
      "image/png": "[encoded data removed]",
      "text/plain": [
       "<matplotlib.figure.Figure at 0x1603b2c320>"
      ]
     },
     "metadata": {},
     "output_type": "display_data"
    }
   ],
   "source": [
    "img = imread('trainResized/3.Bmp', as_grey=True)\n",
    "img = scale(img)\n",
    "img = (img >= 0.5) *1.0\n",
    "imshow(img)\n",
    "plt.title('Binarized')\n",
    "plt.show()"
   ]
  },
  {
   "cell_type": "code",
   "execution_count": 13,
   "metadata": {},
   "outputs": [
    {
     "name": "stderr",
     "output_type": "stream",
     "text": [
      "[Parallel(n_jobs=1)]: Done 100 out of 100 | elapsed:    5.9s finished\n",
      "[Parallel(n_jobs=1)]: Done 100 out of 100 | elapsed:    0.4s finished\n"
     ]
    },
    {
     "data": {
      "image/png": "[encoded data removed]",
      "text/plain": [
       "<matplotlib.figure.Figure at 0x167cacb128>"
      ]
     },
     "metadata": {},
     "output_type": "display_data"
    }
   ],
   "source": [
    "#Veri setlerini ikili hale çevir\n",
    ".....................\n",
    "\n",
    "rf = RandomForestClassifier(n_estimators = 100, verbose = 1)\n",
    "\n",
    "rf.fit(xTrain,yTrain)\n",
    "y_pred = rf.predict(xTest)\n",
    "y_pred2 = []\n",
    "for i in range(len(y_pred)):\n",
    "    y_pred2.append(chr(y_pred[i]))\n",
    "\n",
    "labelsInfoTest['Class'] = y_pred2\n",
    "labelsInfoTest.to_csv('Results_random_forest_negative_rescaled_binary.csv', index=False)\n",
    "\n",
    "features = rf.feature_importances_\n",
    "\n",
    "features = np.reshape(features,(20,20))\n",
    "\n",
    "plt.imshow(features, interpolation='none')\n",
    "cb = plt.colorbar()\n",
    "cb.set_ticks([rf.feature_importances_.min(), rf.feature_importances_.max()])  # force there to be only 3 ticks\n",
    "cb.set_ticklabels(['not important', 'important'])  # put text labels on them\n",
    "plt.show()"
   ]
  }
 ],
 "metadata": {
  "anaconda-cloud": {},
  "kernelspec": {
   "display_name": "Python 3",
   "language": "python",
   "name": "python3"
  },
  "language_info": {
   "codemirror_mode": {
    "name": "ipython",
    "version": 3
   },
   "file_extension": ".py",
   "mimetype": "text/x-python",
   "name": "python",
   "nbconvert_exporter": "python",
   "pygments_lexer": "ipython3",
   "version": "3.6.3"
  }
 },
 "nbformat": 4,
 "nbformat_minor": 1
}
